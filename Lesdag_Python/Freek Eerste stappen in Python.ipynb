{
 "cells": [
  {
   "cell_type": "markdown",
   "id": "e44cb089",
   "metadata": {},
   "source": [
    "# Wiskundige operators"
   ]
  },
  {
   "cell_type": "code",
   "execution_count": 1,
   "id": "e1def419",
   "metadata": {
    "scrolled": true
   },
   "outputs": [
    {
     "data": {
      "text/plain": [
       "6"
      ]
     },
     "execution_count": 1,
     "metadata": {},
     "output_type": "execute_result"
    }
   ],
   "source": [
    "3 + 3"
   ]
  },
  {
   "cell_type": "code",
   "execution_count": 2,
   "id": "3ddf0b72",
   "metadata": {},
   "outputs": [
    {
     "data": {
      "text/plain": [
       "2"
      ]
     },
     "execution_count": 2,
     "metadata": {},
     "output_type": "execute_result"
    }
   ],
   "source": [
    "5 - 3"
   ]
  },
  {
   "cell_type": "code",
   "execution_count": 3,
   "id": "be10bb6b",
   "metadata": {},
   "outputs": [
    {
     "data": {
      "text/plain": [
       "6"
      ]
     },
     "execution_count": 3,
     "metadata": {},
     "output_type": "execute_result"
    }
   ],
   "source": [
    "2 * 3"
   ]
  },
  {
   "cell_type": "code",
   "execution_count": 4,
   "id": "706ef2ed",
   "metadata": {},
   "outputs": [
    {
     "data": {
      "text/plain": [
       "3.3333333333333335"
      ]
     },
     "execution_count": 4,
     "metadata": {},
     "output_type": "execute_result"
    }
   ],
   "source": [
    "10 / 3"
   ]
  },
  {
   "cell_type": "code",
   "execution_count": 5,
   "id": "86bbb391",
   "metadata": {},
   "outputs": [
    {
     "data": {
      "text/plain": [
       "3"
      ]
     },
     "execution_count": 5,
     "metadata": {},
     "output_type": "execute_result"
    }
   ],
   "source": [
    "10 // 3"
   ]
  },
  {
   "cell_type": "code",
   "execution_count": 6,
   "id": "d09a3798",
   "metadata": {},
   "outputs": [
    {
     "data": {
      "text/plain": [
       "1"
      ]
     },
     "execution_count": 6,
     "metadata": {},
     "output_type": "execute_result"
    }
   ],
   "source": [
    "10 % 3"
   ]
  },
  {
   "cell_type": "code",
   "execution_count": 7,
   "id": "056620ae",
   "metadata": {},
   "outputs": [
    {
     "data": {
      "text/plain": [
       "8"
      ]
     },
     "execution_count": 7,
     "metadata": {},
     "output_type": "execute_result"
    }
   ],
   "source": [
    "2 ** 3"
   ]
  },
  {
   "cell_type": "markdown",
   "id": "02ae63ba",
   "metadata": {},
   "source": [
    "# Variabelen"
   ]
  },
  {
   "cell_type": "code",
   "execution_count": 8,
   "id": "27e743b0",
   "metadata": {},
   "outputs": [],
   "source": [
    "a = 3"
   ]
  },
  {
   "cell_type": "code",
   "execution_count": 9,
   "id": "f1f2bebb",
   "metadata": {},
   "outputs": [
    {
     "data": {
      "text/plain": [
       "3"
      ]
     },
     "execution_count": 9,
     "metadata": {},
     "output_type": "execute_result"
    }
   ],
   "source": [
    "a"
   ]
  },
  {
   "cell_type": "code",
   "execution_count": 10,
   "id": "7c93a731",
   "metadata": {},
   "outputs": [
    {
     "data": {
      "text/plain": [
       "5"
      ]
     },
     "execution_count": 10,
     "metadata": {},
     "output_type": "execute_result"
    }
   ],
   "source": [
    "a = 5\n",
    "a"
   ]
  },
  {
   "cell_type": "code",
   "execution_count": 11,
   "id": "93e73faf",
   "metadata": {},
   "outputs": [],
   "source": [
    "a = 'freek'"
   ]
  },
  {
   "cell_type": "code",
   "execution_count": 12,
   "id": "53173389",
   "metadata": {},
   "outputs": [
    {
     "data": {
      "text/plain": [
       "'freek'"
      ]
     },
     "execution_count": 12,
     "metadata": {},
     "output_type": "execute_result"
    }
   ],
   "source": [
    "a"
   ]
  },
  {
   "cell_type": "markdown",
   "id": "3a54c3b6",
   "metadata": {},
   "source": [
    "### Data Types\n",
    "- int = geheel getal\n",
    "- float = kommagetal\n",
    "- str = tekst\n",
    "- bool = True/False\n",
    "- list = lijst met waarden\n",
    "- dict = woordenboek met sleutels en waarden\n",
    "- tuple = lijst met waarden die niet aan te passen is"
   ]
  },
  {
   "cell_type": "code",
   "execution_count": 13,
   "id": "c0c4c9fe",
   "metadata": {},
   "outputs": [
    {
     "data": {
      "text/plain": [
       "3.3333333333333335"
      ]
     },
     "execution_count": 13,
     "metadata": {},
     "output_type": "execute_result"
    }
   ],
   "source": [
    "a = 10 / 3\n",
    "a"
   ]
  },
  {
   "cell_type": "code",
   "execution_count": 14,
   "id": "ac0480b4",
   "metadata": {},
   "outputs": [
    {
     "data": {
      "text/plain": [
       "5.0"
      ]
     },
     "execution_count": 14,
     "metadata": {},
     "output_type": "execute_result"
    }
   ],
   "source": [
    "a = 10 / 2.\n",
    "a"
   ]
  },
  {
   "cell_type": "code",
   "execution_count": 15,
   "id": "390d8d3d",
   "metadata": {},
   "outputs": [
    {
     "data": {
      "text/plain": [
       "15"
      ]
     },
     "execution_count": 15,
     "metadata": {},
     "output_type": "execute_result"
    }
   ],
   "source": [
    "a = 3\n",
    "5 * a"
   ]
  },
  {
   "cell_type": "code",
   "execution_count": 16,
   "id": "10653c60",
   "metadata": {},
   "outputs": [
    {
     "data": {
      "text/plain": [
       "25"
      ]
     },
     "execution_count": 16,
     "metadata": {},
     "output_type": "execute_result"
    }
   ],
   "source": [
    "a = 5\n",
    "5 * a"
   ]
  },
  {
   "cell_type": "code",
   "execution_count": 17,
   "id": "53ee237c",
   "metadata": {},
   "outputs": [],
   "source": [
    "tekst = 'Hallo ik ben Freek'"
   ]
  },
  {
   "cell_type": "code",
   "execution_count": 18,
   "id": "6945e52a",
   "metadata": {},
   "outputs": [
    {
     "data": {
      "text/plain": [
       "'Hallo ik ben Freek'"
      ]
     },
     "execution_count": 18,
     "metadata": {},
     "output_type": "execute_result"
    }
   ],
   "source": [
    "tekst"
   ]
  },
  {
   "cell_type": "code",
   "execution_count": 19,
   "id": "8446c4aa",
   "metadata": {},
   "outputs": [
    {
     "data": {
      "text/plain": [
       "'Hallo ik ben Freek en ik ben 30 jaar oud.'"
      ]
     },
     "execution_count": 19,
     "metadata": {},
     "output_type": "execute_result"
    }
   ],
   "source": [
    "tekst + ' en ik ben 30 jaar oud.'"
   ]
  },
  {
   "cell_type": "code",
   "execution_count": 20,
   "id": "5e51b8f6",
   "metadata": {},
   "outputs": [],
   "source": [
    "# tekst + ' en ik ben ' + 30 + ' jaar oud.'\n",
    "# TypeError: can only concatenate str (not \"int\") to str"
   ]
  },
  {
   "cell_type": "code",
   "execution_count": 21,
   "id": "8537e5eb",
   "metadata": {},
   "outputs": [
    {
     "data": {
      "text/plain": [
       "'Hallo ik ben Freek en ik ben 30 jaar oud.'"
      ]
     },
     "execution_count": 21,
     "metadata": {},
     "output_type": "execute_result"
    }
   ],
   "source": [
    "tekst + ' en ik ben ' + str(30) + ' jaar oud.'"
   ]
  },
  {
   "cell_type": "code",
   "execution_count": 22,
   "id": "ff43d8c1",
   "metadata": {},
   "outputs": [
    {
     "data": {
      "text/plain": [
       "'Hallo ik ben Freek'"
      ]
     },
     "execution_count": 22,
     "metadata": {},
     "output_type": "execute_result"
    }
   ],
   "source": [
    "tekst"
   ]
  },
  {
   "cell_type": "code",
   "execution_count": 23,
   "id": "545d1757",
   "metadata": {},
   "outputs": [
    {
     "data": {
      "text/plain": [
       "'Hallo ik ben FreekHallo ik ben FreekHallo ik ben Freek'"
      ]
     },
     "execution_count": 23,
     "metadata": {},
     "output_type": "execute_result"
    }
   ],
   "source": [
    "tekst * 3"
   ]
  },
  {
   "cell_type": "code",
   "execution_count": 24,
   "id": "b9d35abf",
   "metadata": {},
   "outputs": [
    {
     "data": {
      "text/plain": [
       "6"
      ]
     },
     "execution_count": 24,
     "metadata": {},
     "output_type": "execute_result"
    }
   ],
   "source": [
    "3 + 3"
   ]
  },
  {
   "cell_type": "code",
   "execution_count": 25,
   "id": "6e72306d",
   "metadata": {},
   "outputs": [
    {
     "data": {
      "text/plain": [
       "9"
      ]
     },
     "execution_count": 25,
     "metadata": {},
     "output_type": "execute_result"
    }
   ],
   "source": [
    "3 * 3"
   ]
  },
  {
   "cell_type": "code",
   "execution_count": 26,
   "id": "12a717b0",
   "metadata": {},
   "outputs": [
    {
     "data": {
      "text/plain": [
       "'Hallo ik ben FreekHallo ik ben FreekHallo ik ben Freek'"
      ]
     },
     "execution_count": 26,
     "metadata": {},
     "output_type": "execute_result"
    }
   ],
   "source": [
    "tekst + tekst + tekst"
   ]
  },
  {
   "cell_type": "code",
   "execution_count": 27,
   "id": "6ef82ed1",
   "metadata": {},
   "outputs": [
    {
     "data": {
      "text/plain": [
       "'--------------------'"
      ]
     },
     "execution_count": 27,
     "metadata": {},
     "output_type": "execute_result"
    }
   ],
   "source": [
    "'-' * 20"
   ]
  },
  {
   "cell_type": "code",
   "execution_count": 28,
   "id": "f3a0ca33",
   "metadata": {},
   "outputs": [
    {
     "data": {
      "text/plain": [
       "'Hallo ik ben Freek'"
      ]
     },
     "execution_count": 28,
     "metadata": {},
     "output_type": "execute_result"
    }
   ],
   "source": [
    "tekst"
   ]
  },
  {
   "cell_type": "code",
   "execution_count": 29,
   "id": "c09614e0",
   "metadata": {},
   "outputs": [
    {
     "data": {
      "text/plain": [
       "'o'"
      ]
     },
     "execution_count": 29,
     "metadata": {},
     "output_type": "execute_result"
    }
   ],
   "source": [
    "tekst[4]"
   ]
  },
  {
   "cell_type": "code",
   "execution_count": 30,
   "id": "cb64f2a6",
   "metadata": {},
   "outputs": [
    {
     "data": {
      "text/plain": [
       "[1, 6, 8, 9, 'a', 'b']"
      ]
     },
     "execution_count": 30,
     "metadata": {},
     "output_type": "execute_result"
    }
   ],
   "source": [
    "lijst = [1, 6, 8, 9, 'a', 'b']\n",
    "lijst"
   ]
  },
  {
   "cell_type": "code",
   "execution_count": 31,
   "id": "51760c70",
   "metadata": {},
   "outputs": [
    {
     "data": {
      "text/plain": [
       "'a'"
      ]
     },
     "execution_count": 31,
     "metadata": {},
     "output_type": "execute_result"
    }
   ],
   "source": [
    "lijst[4]"
   ]
  },
  {
   "cell_type": "code",
   "execution_count": 32,
   "id": "985f83b9",
   "metadata": {},
   "outputs": [
    {
     "data": {
      "text/plain": [
       "[9, 'a']"
      ]
     },
     "execution_count": 32,
     "metadata": {},
     "output_type": "execute_result"
    }
   ],
   "source": [
    "lijst[3:5]"
   ]
  },
  {
   "cell_type": "code",
   "execution_count": 33,
   "id": "431c1e66",
   "metadata": {},
   "outputs": [
    {
     "data": {
      "text/plain": [
       "[1, 6, 8, 9]"
      ]
     },
     "execution_count": 33,
     "metadata": {},
     "output_type": "execute_result"
    }
   ],
   "source": [
    "lijst[0:4]"
   ]
  },
  {
   "cell_type": "code",
   "execution_count": 34,
   "id": "d511c607",
   "metadata": {},
   "outputs": [
    {
     "data": {
      "text/plain": [
       "[1, 6, 8, 9]"
      ]
     },
     "execution_count": 34,
     "metadata": {},
     "output_type": "execute_result"
    }
   ],
   "source": [
    "lijst[:4]"
   ]
  },
  {
   "cell_type": "code",
   "execution_count": 35,
   "id": "b973edc9",
   "metadata": {},
   "outputs": [
    {
     "data": {
      "text/plain": [
       "['a', 'b']"
      ]
     },
     "execution_count": 35,
     "metadata": {},
     "output_type": "execute_result"
    }
   ],
   "source": [
    "lijst[4:]"
   ]
  },
  {
   "cell_type": "code",
   "execution_count": 36,
   "id": "52d1c8e8",
   "metadata": {},
   "outputs": [
    {
     "data": {
      "text/plain": [
       "'a'"
      ]
     },
     "execution_count": 36,
     "metadata": {},
     "output_type": "execute_result"
    }
   ],
   "source": [
    "lijst[4]"
   ]
  },
  {
   "cell_type": "code",
   "execution_count": 37,
   "id": "50eba570",
   "metadata": {},
   "outputs": [
    {
     "data": {
      "text/plain": [
       "'b'"
      ]
     },
     "execution_count": 37,
     "metadata": {},
     "output_type": "execute_result"
    }
   ],
   "source": [
    "lijst[-1]"
   ]
  },
  {
   "cell_type": "code",
   "execution_count": 38,
   "id": "ec2717ba",
   "metadata": {},
   "outputs": [
    {
     "data": {
      "text/plain": [
       "'a'"
      ]
     },
     "execution_count": 38,
     "metadata": {},
     "output_type": "execute_result"
    }
   ],
   "source": [
    "lijst[-2]"
   ]
  },
  {
   "cell_type": "code",
   "execution_count": 39,
   "id": "cc703de3",
   "metadata": {},
   "outputs": [
    {
     "data": {
      "text/plain": [
       "[1, 6, 8]"
      ]
     },
     "execution_count": 39,
     "metadata": {},
     "output_type": "execute_result"
    }
   ],
   "source": [
    "lijst[:-3]"
   ]
  },
  {
   "cell_type": "code",
   "execution_count": 40,
   "id": "24af7ce0",
   "metadata": {},
   "outputs": [
    {
     "data": {
      "text/plain": [
       "'Hallo ik ben Freek'"
      ]
     },
     "execution_count": 40,
     "metadata": {},
     "output_type": "execute_result"
    }
   ],
   "source": [
    "tekst"
   ]
  },
  {
   "cell_type": "code",
   "execution_count": 41,
   "id": "c48ed8db",
   "metadata": {},
   "outputs": [
    {
     "data": {
      "text/plain": [
       "'Hallo'"
      ]
     },
     "execution_count": 41,
     "metadata": {},
     "output_type": "execute_result"
    }
   ],
   "source": [
    "tekst[:5]"
   ]
  },
  {
   "cell_type": "code",
   "execution_count": 42,
   "id": "ab55fb91",
   "metadata": {},
   "outputs": [
    {
     "data": {
      "text/plain": [
       "'Freek'"
      ]
     },
     "execution_count": 42,
     "metadata": {},
     "output_type": "execute_result"
    }
   ],
   "source": [
    "tekst[-5:]"
   ]
  },
  {
   "cell_type": "code",
   "execution_count": 43,
   "id": "97dfd62e",
   "metadata": {},
   "outputs": [
    {
     "data": {
      "text/plain": [
       "'Hloi e re'"
      ]
     },
     "execution_count": 43,
     "metadata": {},
     "output_type": "execute_result"
    }
   ],
   "source": [
    "tekst[::2]"
   ]
  },
  {
   "cell_type": "code",
   "execution_count": 44,
   "id": "f4f452ba",
   "metadata": {},
   "outputs": [
    {
     "data": {
      "text/plain": [
       "'al kbnFek'"
      ]
     },
     "execution_count": 44,
     "metadata": {},
     "output_type": "execute_result"
    }
   ],
   "source": [
    "tekst[1::2]"
   ]
  },
  {
   "cell_type": "code",
   "execution_count": 45,
   "id": "aa7be1a6",
   "metadata": {},
   "outputs": [
    {
     "data": {
      "text/plain": [
       "[0, 1, 2, 3, 4, 5, 6, 7, 8, 9]"
      ]
     },
     "execution_count": 45,
     "metadata": {},
     "output_type": "execute_result"
    }
   ],
   "source": [
    "x = list(range(10))\n",
    "x"
   ]
  },
  {
   "cell_type": "code",
   "execution_count": 46,
   "id": "e1219057",
   "metadata": {},
   "outputs": [
    {
     "data": {
      "text/plain": [
       "[0, 2, 4, 6, 8]"
      ]
     },
     "execution_count": 46,
     "metadata": {},
     "output_type": "execute_result"
    }
   ],
   "source": [
    "x[::2]"
   ]
  },
  {
   "cell_type": "code",
   "execution_count": 47,
   "id": "e32d718f",
   "metadata": {},
   "outputs": [
    {
     "data": {
      "text/plain": [
       "[1, 3, 5, 7, 9]"
      ]
     },
     "execution_count": 47,
     "metadata": {},
     "output_type": "execute_result"
    }
   ],
   "source": [
    "x[1::2]"
   ]
  },
  {
   "cell_type": "code",
   "execution_count": 48,
   "id": "b1a825a4",
   "metadata": {},
   "outputs": [
    {
     "data": {
      "text/plain": [
       "[1, 6, 8, 9, 'a', 'b']"
      ]
     },
     "execution_count": 48,
     "metadata": {},
     "output_type": "execute_result"
    }
   ],
   "source": [
    "lijst"
   ]
  },
  {
   "cell_type": "code",
   "execution_count": 49,
   "id": "883dd4af",
   "metadata": {},
   "outputs": [
    {
     "data": {
      "text/plain": [
       "[1, 6, 8, 9, 'c', 'b']"
      ]
     },
     "execution_count": 49,
     "metadata": {},
     "output_type": "execute_result"
    }
   ],
   "source": [
    "lijst[4] = 'c'\n",
    "lijst"
   ]
  },
  {
   "cell_type": "code",
   "execution_count": 50,
   "id": "174df006",
   "metadata": {},
   "outputs": [],
   "source": [
    "# tekst[4] = 'a'\n",
    "# TypeError: 'str' object does not support item assignment"
   ]
  },
  {
   "cell_type": "code",
   "execution_count": 116,
   "id": "86cb6d73",
   "metadata": {},
   "outputs": [
    {
     "data": {
      "text/plain": [
       "[1, 6, 8, 9, 'c', 'b', 'a']"
      ]
     },
     "execution_count": 116,
     "metadata": {},
     "output_type": "execute_result"
    }
   ],
   "source": [
    "lijst.append('a')\n",
    "lijst"
   ]
  },
  {
   "cell_type": "code",
   "execution_count": 117,
   "id": "f4926ae2",
   "metadata": {},
   "outputs": [
    {
     "data": {
      "text/plain": [
       "'a'"
      ]
     },
     "execution_count": 117,
     "metadata": {},
     "output_type": "execute_result"
    }
   ],
   "source": [
    "lijst.pop()"
   ]
  },
  {
   "cell_type": "code",
   "execution_count": 119,
   "id": "f662bd7d",
   "metadata": {},
   "outputs": [
    {
     "data": {
      "text/plain": [
       "[1, 6, 8, 'a', 9, 'c', 'b']"
      ]
     },
     "execution_count": 119,
     "metadata": {},
     "output_type": "execute_result"
    }
   ],
   "source": [
    "lijst.insert(3, 'a')\n",
    "lijst"
   ]
  },
  {
   "cell_type": "code",
   "execution_count": 120,
   "id": "c3bc85c9",
   "metadata": {},
   "outputs": [
    {
     "data": {
      "text/plain": [
       "'a'"
      ]
     },
     "execution_count": 120,
     "metadata": {},
     "output_type": "execute_result"
    }
   ],
   "source": [
    "lijst.pop(3)"
   ]
  },
  {
   "cell_type": "code",
   "execution_count": 121,
   "id": "7e1efdc0",
   "metadata": {},
   "outputs": [
    {
     "data": {
      "text/plain": [
       "[1, 6, 8, 9, 'c', 'b']"
      ]
     },
     "execution_count": 121,
     "metadata": {},
     "output_type": "execute_result"
    }
   ],
   "source": [
    "lijst"
   ]
  },
  {
   "cell_type": "code",
   "execution_count": null,
   "id": "2db1134b",
   "metadata": {},
   "outputs": [],
   "source": []
  },
  {
   "cell_type": "code",
   "execution_count": 51,
   "id": "b3f869c4",
   "metadata": {},
   "outputs": [],
   "source": [
    "a = 3\n",
    "a = 5"
   ]
  },
  {
   "cell_type": "code",
   "execution_count": 52,
   "id": "e07921d5",
   "metadata": {},
   "outputs": [
    {
     "data": {
      "text/plain": [
       "'Halla ik ben Freek'"
      ]
     },
     "execution_count": 52,
     "metadata": {},
     "output_type": "execute_result"
    }
   ],
   "source": [
    "tekst[:4] + 'a' + tekst[5:]"
   ]
  },
  {
   "cell_type": "code",
   "execution_count": 53,
   "id": "21a47233",
   "metadata": {},
   "outputs": [
    {
     "data": {
      "text/plain": [
       "(1, 6, 8, 9, 'c', 'b')"
      ]
     },
     "execution_count": 53,
     "metadata": {},
     "output_type": "execute_result"
    }
   ],
   "source": [
    "tuple(lijst)"
   ]
  },
  {
   "cell_type": "code",
   "execution_count": 54,
   "id": "bbae87c1",
   "metadata": {},
   "outputs": [
    {
     "data": {
      "text/plain": [
       "(1, 6, 8, 9, 'c', 'b')"
      ]
     },
     "execution_count": 54,
     "metadata": {},
     "output_type": "execute_result"
    }
   ],
   "source": [
    "t = tuple(lijst)\n",
    "t"
   ]
  },
  {
   "cell_type": "code",
   "execution_count": 55,
   "id": "8c083971",
   "metadata": {},
   "outputs": [],
   "source": [
    "# t[4] = 'a'\n",
    "# TypeError: 'tuple' object does not support item assignment"
   ]
  },
  {
   "cell_type": "code",
   "execution_count": 56,
   "id": "cdab85d8",
   "metadata": {},
   "outputs": [
    {
     "data": {
      "text/plain": [
       "(1, 6, 8, 9, 'a', 'b')"
      ]
     },
     "execution_count": 56,
     "metadata": {},
     "output_type": "execute_result"
    }
   ],
   "source": [
    "t = t[:4] + ('a', ) + t[5:]\n",
    "t"
   ]
  },
  {
   "cell_type": "code",
   "execution_count": 57,
   "id": "01ab5428",
   "metadata": {},
   "outputs": [
    {
     "data": {
      "text/plain": [
       "('a',)"
      ]
     },
     "execution_count": 57,
     "metadata": {},
     "output_type": "execute_result"
    }
   ],
   "source": [
    "('a', )"
   ]
  },
  {
   "cell_type": "code",
   "execution_count": 58,
   "id": "07caf992",
   "metadata": {},
   "outputs": [],
   "source": [
    "personen = ['Henk', 18, 'Freek', 30]"
   ]
  },
  {
   "cell_type": "code",
   "execution_count": 59,
   "id": "2fc34053",
   "metadata": {},
   "outputs": [
    {
     "data": {
      "text/plain": [
       "['Henk', 'Freek']"
      ]
     },
     "execution_count": 59,
     "metadata": {},
     "output_type": "execute_result"
    }
   ],
   "source": [
    "personen[::2]"
   ]
  },
  {
   "cell_type": "code",
   "execution_count": 60,
   "id": "2aadbe48",
   "metadata": {},
   "outputs": [
    {
     "data": {
      "text/plain": [
       "[18, 30]"
      ]
     },
     "execution_count": 60,
     "metadata": {},
     "output_type": "execute_result"
    }
   ],
   "source": [
    "personen[1::2]"
   ]
  },
  {
   "cell_type": "code",
   "execution_count": 61,
   "id": "2b96f4ae",
   "metadata": {},
   "outputs": [],
   "source": [
    "personen = {'Henk': 18, 'Freek': 30}"
   ]
  },
  {
   "cell_type": "code",
   "execution_count": 62,
   "id": "f159868a",
   "metadata": {},
   "outputs": [
    {
     "data": {
      "text/plain": [
       "18"
      ]
     },
     "execution_count": 62,
     "metadata": {},
     "output_type": "execute_result"
    }
   ],
   "source": [
    "personen['Henk']"
   ]
  },
  {
   "cell_type": "code",
   "execution_count": 63,
   "id": "b435c95d",
   "metadata": {},
   "outputs": [
    {
     "data": {
      "text/plain": [
       "'rietje'"
      ]
     },
     "execution_count": 63,
     "metadata": {},
     "output_type": "execute_result"
    }
   ],
   "source": [
    "vertaling = {'hi': 'hoi', 'straw': 'rietje'}\n",
    "vertaling['straw']"
   ]
  },
  {
   "cell_type": "code",
   "execution_count": 64,
   "id": "7b7ef61b",
   "metadata": {},
   "outputs": [
    {
     "data": {
      "text/plain": [
       "dict_keys(['Henk', 'Freek'])"
      ]
     },
     "execution_count": 64,
     "metadata": {},
     "output_type": "execute_result"
    }
   ],
   "source": [
    "personen.keys()"
   ]
  },
  {
   "cell_type": "code",
   "execution_count": 65,
   "id": "9cc2f13e",
   "metadata": {},
   "outputs": [
    {
     "data": {
      "text/plain": [
       "dict_values([18, 30])"
      ]
     },
     "execution_count": 65,
     "metadata": {},
     "output_type": "execute_result"
    }
   ],
   "source": [
    "personen.values()"
   ]
  },
  {
   "cell_type": "code",
   "execution_count": 66,
   "id": "bcb43154",
   "metadata": {},
   "outputs": [],
   "source": [
    "personen = [\n",
    "    {\n",
    "        'naam': 'Henk',\n",
    "        'leeftijd': 18\n",
    "    },\n",
    "    {\n",
    "        'naam': 'Freek',\n",
    "        'leeftijd': 30\n",
    "    }\n",
    "]"
   ]
  },
  {
   "cell_type": "code",
   "execution_count": 67,
   "id": "8202e0f2",
   "metadata": {},
   "outputs": [
    {
     "data": {
      "text/plain": [
       "[{'naam': 'Henk', 'leeftijd': 18}, {'naam': 'Freek', 'leeftijd': 30}]"
      ]
     },
     "execution_count": 67,
     "metadata": {},
     "output_type": "execute_result"
    }
   ],
   "source": [
    "personen"
   ]
  },
  {
   "cell_type": "code",
   "execution_count": 68,
   "id": "51a4e731",
   "metadata": {},
   "outputs": [
    {
     "data": {
      "text/plain": [
       "'Henk'"
      ]
     },
     "execution_count": 68,
     "metadata": {},
     "output_type": "execute_result"
    }
   ],
   "source": [
    "personen[0]['naam']"
   ]
  },
  {
   "cell_type": "code",
   "execution_count": 69,
   "id": "eaee4d66",
   "metadata": {},
   "outputs": [
    {
     "data": {
      "text/plain": [
       "{'naam': 'Henk', 'leeftijd': 18}"
      ]
     },
     "execution_count": 69,
     "metadata": {},
     "output_type": "execute_result"
    }
   ],
   "source": [
    "personen[0]"
   ]
  },
  {
   "cell_type": "code",
   "execution_count": 70,
   "id": "bec187df",
   "metadata": {},
   "outputs": [
    {
     "data": {
      "text/plain": [
       "'H'"
      ]
     },
     "execution_count": 70,
     "metadata": {},
     "output_type": "execute_result"
    }
   ],
   "source": [
    "personen[0]['naam'][0]"
   ]
  },
  {
   "cell_type": "markdown",
   "id": "31a86a46",
   "metadata": {},
   "source": [
    "# Input en output"
   ]
  },
  {
   "cell_type": "code",
   "execution_count": 71,
   "id": "ec580b41",
   "metadata": {},
   "outputs": [
    {
     "data": {
      "text/plain": [
       "[{'naam': 'Henk', 'leeftijd': 18}, {'naam': 'Freek', 'leeftijd': 30}]"
      ]
     },
     "execution_count": 71,
     "metadata": {},
     "output_type": "execute_result"
    }
   ],
   "source": [
    "personen"
   ]
  },
  {
   "cell_type": "code",
   "execution_count": 72,
   "id": "f647e035",
   "metadata": {},
   "outputs": [
    {
     "name": "stdout",
     "output_type": "stream",
     "text": [
      "[1, 6, 8, 9, 'c', 'b']\n"
     ]
    }
   ],
   "source": [
    "print(lijst)"
   ]
  },
  {
   "cell_type": "code",
   "execution_count": 73,
   "id": "6ca98241",
   "metadata": {},
   "outputs": [
    {
     "data": {
      "text/plain": [
       "[1, 6, 8, 9, 'c', 'b']"
      ]
     },
     "execution_count": 73,
     "metadata": {},
     "output_type": "execute_result"
    }
   ],
   "source": [
    "lijst"
   ]
  },
  {
   "cell_type": "code",
   "execution_count": 74,
   "id": "c1d72ecf",
   "metadata": {},
   "outputs": [
    {
     "data": {
      "text/plain": [
       "'Hallo ik ben Freek'"
      ]
     },
     "execution_count": 74,
     "metadata": {},
     "output_type": "execute_result"
    }
   ],
   "source": [
    "tekst"
   ]
  },
  {
   "cell_type": "code",
   "execution_count": 75,
   "id": "84f01e85",
   "metadata": {},
   "outputs": [
    {
     "name": "stdout",
     "output_type": "stream",
     "text": [
      "Hallo ik ben Freek\n"
     ]
    }
   ],
   "source": [
    "print(tekst)"
   ]
  },
  {
   "cell_type": "code",
   "execution_count": 76,
   "id": "0b219c37",
   "metadata": {},
   "outputs": [],
   "source": [
    "# leeftijd = input('Wat is je leeftijd? ')"
   ]
  },
  {
   "cell_type": "code",
   "execution_count": 77,
   "id": "73b0405d",
   "metadata": {},
   "outputs": [],
   "source": [
    "# leeftijd"
   ]
  },
  {
   "cell_type": "code",
   "execution_count": 78,
   "id": "b071fea0",
   "metadata": {},
   "outputs": [],
   "source": [
    "# int(leeftijd)"
   ]
  },
  {
   "cell_type": "code",
   "execution_count": 79,
   "id": "035834a1",
   "metadata": {},
   "outputs": [],
   "source": [
    "# leeftijd * 3"
   ]
  },
  {
   "cell_type": "code",
   "execution_count": 80,
   "id": "56a252cc",
   "metadata": {},
   "outputs": [],
   "source": [
    "# int(leeftijd) * 3"
   ]
  },
  {
   "cell_type": "markdown",
   "id": "57fed642",
   "metadata": {},
   "source": [
    "# Bool en control flow (if/elif/else)"
   ]
  },
  {
   "cell_type": "code",
   "execution_count": 81,
   "id": "010f2857",
   "metadata": {},
   "outputs": [],
   "source": [
    "leeftijd = 30"
   ]
  },
  {
   "cell_type": "code",
   "execution_count": 82,
   "id": "971caefa",
   "metadata": {},
   "outputs": [
    {
     "data": {
      "text/plain": [
       "True"
      ]
     },
     "execution_count": 82,
     "metadata": {},
     "output_type": "execute_result"
    }
   ],
   "source": [
    "leeftijd >= 18"
   ]
  },
  {
   "cell_type": "code",
   "execution_count": 83,
   "id": "20cdf4eb",
   "metadata": {},
   "outputs": [
    {
     "data": {
      "text/plain": [
       "True"
      ]
     },
     "execution_count": 83,
     "metadata": {},
     "output_type": "execute_result"
    }
   ],
   "source": [
    "True"
   ]
  },
  {
   "cell_type": "code",
   "execution_count": 84,
   "id": "be7e1bb0",
   "metadata": {},
   "outputs": [
    {
     "data": {
      "text/plain": [
       "False"
      ]
     },
     "execution_count": 84,
     "metadata": {},
     "output_type": "execute_result"
    }
   ],
   "source": [
    "False"
   ]
  },
  {
   "cell_type": "code",
   "execution_count": 85,
   "id": "eda8cba9",
   "metadata": {},
   "outputs": [
    {
     "data": {
      "text/plain": [
       "False"
      ]
     },
     "execution_count": 85,
     "metadata": {},
     "output_type": "execute_result"
    }
   ],
   "source": [
    "leeftijd = 16\n",
    "leeftijd >= 18"
   ]
  },
  {
   "cell_type": "code",
   "execution_count": 86,
   "id": "f95dd5c0",
   "metadata": {},
   "outputs": [
    {
     "name": "stdout",
     "output_type": "stream",
     "text": [
      "Je mag de club NIET in\n"
     ]
    }
   ],
   "source": [
    "leeftijd = 3\n",
    "if leeftijd >= 18:\n",
    "    print('Je mag de club in')\n",
    "else:\n",
    "    print('Je mag de club NIET in')"
   ]
  },
  {
   "cell_type": "code",
   "execution_count": 87,
   "id": "24c11c9d",
   "metadata": {},
   "outputs": [
    {
     "name": "stdout",
     "output_type": "stream",
     "text": [
      "Je mag naar kinderfeesten\n"
     ]
    }
   ],
   "source": [
    "leeftijd = 3\n",
    "if leeftijd >= 18:\n",
    "    print('Je mag naar feesten van 18+')\n",
    "elif leeftijd >= 16:\n",
    "    print('Je mag naar feesten van 16+')\n",
    "else:\n",
    "    print('Je mag naar kinderfeesten')"
   ]
  },
  {
   "cell_type": "code",
   "execution_count": 88,
   "id": "c307657a",
   "metadata": {},
   "outputs": [
    {
     "name": "stdout",
     "output_type": "stream",
     "text": [
      "Je mag naar feesten van 16+\n"
     ]
    }
   ],
   "source": [
    "leeftijd = 17\n",
    "if leeftijd >= 18:\n",
    "    print('Je mag naar feesten van 18+')\n",
    "elif leeftijd >= 16:\n",
    "    print('Je mag naar feesten van 16+')\n",
    "else:\n",
    "    print('Je mag naar kinderfeesten')"
   ]
  },
  {
   "cell_type": "code",
   "execution_count": 89,
   "id": "d958a17d",
   "metadata": {},
   "outputs": [
    {
     "name": "stdout",
     "output_type": "stream",
     "text": [
      "Je mag naar feesten van 18+\n"
     ]
    }
   ],
   "source": [
    "leeftijd = 22\n",
    "if leeftijd >= 18:\n",
    "    print('Je mag naar feesten van 18+')\n",
    "elif leeftijd >= 16:\n",
    "    print('Je mag naar feesten van 16+')\n",
    "else:\n",
    "    print('Je mag naar kinderfeesten')"
   ]
  },
  {
   "cell_type": "code",
   "execution_count": 90,
   "id": "a2102842",
   "metadata": {},
   "outputs": [
    {
     "name": "stdout",
     "output_type": "stream",
     "text": [
      "Je mag naar feesten van 18+\n",
      "Je mag naar feesten van 16+\n"
     ]
    }
   ],
   "source": [
    "leeftijd = 22\n",
    "if leeftijd >= 18:\n",
    "    print('Je mag naar feesten van 18+')\n",
    "if leeftijd >= 16:\n",
    "    print('Je mag naar feesten van 16+')\n",
    "else:\n",
    "    print('Je mag naar kinderfeesten')"
   ]
  },
  {
   "cell_type": "raw",
   "id": "be4ca25e",
   "metadata": {},
   "source": [
    "if (leeftijd >= 18) {\n",
    "    console.log(\"Je mag naar feesten van 18+\")\n",
    "}"
   ]
  },
  {
   "cell_type": "code",
   "execution_count": 91,
   "id": "0da10ba3",
   "metadata": {},
   "outputs": [],
   "source": [
    "# if = 3\n",
    "# SyntaxError: invalid syntax"
   ]
  },
  {
   "cell_type": "code",
   "execution_count": 92,
   "id": "7bfff36a",
   "metadata": {},
   "outputs": [
    {
     "data": {
      "text/plain": [
       "3"
      ]
     },
     "execution_count": 92,
     "metadata": {},
     "output_type": "execute_result"
    }
   ],
   "source": [
    "int('3')"
   ]
  },
  {
   "cell_type": "code",
   "execution_count": 93,
   "id": "6c79af23",
   "metadata": {},
   "outputs": [],
   "source": [
    "# int = 3\n",
    "\n",
    "# int('3')\n",
    "# TypeError: 'int' object is not callable"
   ]
  },
  {
   "cell_type": "code",
   "execution_count": 94,
   "id": "8766e645",
   "metadata": {},
   "outputs": [
    {
     "name": "stdout",
     "output_type": "stream",
     "text": [
      "Dat is waar\n",
      "8\n"
     ]
    }
   ],
   "source": [
    "if 4 == 4:\n",
    "    print('Dat is waar')\n",
    "    print(4 + 4)"
   ]
  },
  {
   "cell_type": "code",
   "execution_count": 95,
   "id": "e291e829",
   "metadata": {},
   "outputs": [
    {
     "name": "stdout",
     "output_type": "stream",
     "text": [
      "Nog iets\n"
     ]
    }
   ],
   "source": [
    "if 4 == 3:\n",
    "    print('Dat is waar')\n",
    "    print(4 + 4)\n",
    "print('Nog iets')"
   ]
  },
  {
   "cell_type": "code",
   "execution_count": 96,
   "id": "8185ec7e",
   "metadata": {},
   "outputs": [
    {
     "name": "stdout",
     "output_type": "stream",
     "text": [
      "Nog iets\n"
     ]
    }
   ],
   "source": [
    "if False:\n",
    "    print('Dat is waar')\n",
    "    print(4 + 4)\n",
    "print('Nog iets')"
   ]
  },
  {
   "cell_type": "code",
   "execution_count": 98,
   "id": "e6aca032",
   "metadata": {},
   "outputs": [],
   "source": [
    "lege_lijst = []\n",
    "lege_string = ''\n",
    "lege_dictionary = {}"
   ]
  },
  {
   "cell_type": "code",
   "execution_count": 99,
   "id": "0a9228f6",
   "metadata": {},
   "outputs": [
    {
     "name": "stdout",
     "output_type": "stream",
     "text": [
      "dit is onwaar\n"
     ]
    }
   ],
   "source": [
    "if 0:\n",
    "    print('dit is waar')\n",
    "else:\n",
    "    print('dit is onwaar')"
   ]
  },
  {
   "cell_type": "code",
   "execution_count": 100,
   "id": "108e20b4",
   "metadata": {},
   "outputs": [
    {
     "name": "stdout",
     "output_type": "stream",
     "text": [
      "dit is waar\n"
     ]
    }
   ],
   "source": [
    "if 1:\n",
    "    print('dit is waar')\n",
    "else:\n",
    "    print('dit is onwaar')"
   ]
  },
  {
   "cell_type": "code",
   "execution_count": 101,
   "id": "0d541e4d",
   "metadata": {},
   "outputs": [
    {
     "name": "stdout",
     "output_type": "stream",
     "text": [
      "dit is waar\n"
     ]
    }
   ],
   "source": [
    "if 12893:\n",
    "    print('dit is waar')\n",
    "else:\n",
    "    print('dit is onwaar')"
   ]
  },
  {
   "cell_type": "code",
   "execution_count": 102,
   "id": "387767e8",
   "metadata": {},
   "outputs": [
    {
     "name": "stdout",
     "output_type": "stream",
     "text": [
      "dit is waar\n"
     ]
    }
   ],
   "source": [
    "if -1283918293:\n",
    "    print('dit is waar')\n",
    "else:\n",
    "    print('dit is onwaar')"
   ]
  },
  {
   "cell_type": "code",
   "execution_count": 103,
   "id": "b3dc67ad",
   "metadata": {},
   "outputs": [
    {
     "data": {
      "text/plain": [
       "True"
      ]
     },
     "execution_count": 103,
     "metadata": {},
     "output_type": "execute_result"
    }
   ],
   "source": [
    "bool(1238981923)"
   ]
  },
  {
   "cell_type": "code",
   "execution_count": 104,
   "id": "f45bfc80",
   "metadata": {},
   "outputs": [
    {
     "data": {
      "text/plain": [
       "False"
      ]
     },
     "execution_count": 104,
     "metadata": {},
     "output_type": "execute_result"
    }
   ],
   "source": [
    "bool(0)"
   ]
  },
  {
   "cell_type": "code",
   "execution_count": 105,
   "id": "ebec5426",
   "metadata": {},
   "outputs": [
    {
     "data": {
      "text/plain": [
       "True"
      ]
     },
     "execution_count": 105,
     "metadata": {},
     "output_type": "execute_result"
    }
   ],
   "source": [
    "bool(lijst)"
   ]
  },
  {
   "cell_type": "code",
   "execution_count": 106,
   "id": "47027808",
   "metadata": {},
   "outputs": [
    {
     "data": {
      "text/plain": [
       "False"
      ]
     },
     "execution_count": 106,
     "metadata": {},
     "output_type": "execute_result"
    }
   ],
   "source": [
    "bool(lege_lijst)"
   ]
  },
  {
   "cell_type": "markdown",
   "id": "66eaa1b3",
   "metadata": {},
   "source": [
    "### Operators voor condities:\n",
    "- == Gelijk aan\n",
    "- != Ongelijk aan\n",
    "- \\> Groter dan\n",
    "- < Kleiner dan\n",
    "- \\>= Groter dan of gelijk aan\n",
    "- <= Kleiner dan of gelijk aan\n",
    "- not\n",
    "- or\n",
    "- and"
   ]
  },
  {
   "cell_type": "code",
   "execution_count": 107,
   "id": "69971efd",
   "metadata": {},
   "outputs": [
    {
     "name": "stdout",
     "output_type": "stream",
     "text": [
      "die is leeg\n"
     ]
    }
   ],
   "source": [
    "if lege_lijst == []:\n",
    "    print('die is leeg')"
   ]
  },
  {
   "cell_type": "code",
   "execution_count": 109,
   "id": "5caf6b1c",
   "metadata": {},
   "outputs": [
    {
     "data": {
      "text/plain": [
       "False"
      ]
     },
     "execution_count": 109,
     "metadata": {},
     "output_type": "execute_result"
    }
   ],
   "source": [
    "not True"
   ]
  },
  {
   "cell_type": "code",
   "execution_count": 110,
   "id": "226316ed",
   "metadata": {},
   "outputs": [
    {
     "data": {
      "text/plain": [
       "True"
      ]
     },
     "execution_count": 110,
     "metadata": {},
     "output_type": "execute_result"
    }
   ],
   "source": [
    "not False"
   ]
  },
  {
   "cell_type": "code",
   "execution_count": 108,
   "id": "78681699",
   "metadata": {},
   "outputs": [
    {
     "name": "stdout",
     "output_type": "stream",
     "text": [
      "die is leeg\n"
     ]
    }
   ],
   "source": [
    "if not lege_lijst:\n",
    "    print('die is leeg')"
   ]
  },
  {
   "cell_type": "code",
   "execution_count": 111,
   "id": "f96700fa",
   "metadata": {},
   "outputs": [
    {
     "data": {
      "text/plain": [
       "22"
      ]
     },
     "execution_count": 111,
     "metadata": {},
     "output_type": "execute_result"
    }
   ],
   "source": [
    "leeftijd"
   ]
  },
  {
   "cell_type": "code",
   "execution_count": 112,
   "id": "374e6588",
   "metadata": {},
   "outputs": [
    {
     "name": "stdout",
     "output_type": "stream",
     "text": [
      "bepaalde leeftijd\n"
     ]
    }
   ],
   "source": [
    "if leeftijd >= 18 and leeftijd <= 100:\n",
    "    print('bepaalde leeftijd')"
   ]
  },
  {
   "cell_type": "code",
   "execution_count": 113,
   "id": "1bf0332a",
   "metadata": {},
   "outputs": [],
   "source": [
    "leeftijd = 1000\n",
    "if leeftijd >= 18 and leeftijd <= 100:\n",
    "    print('bepaalde leeftijd')"
   ]
  },
  {
   "cell_type": "code",
   "execution_count": 114,
   "id": "35ace117",
   "metadata": {},
   "outputs": [
    {
     "name": "stdout",
     "output_type": "stream",
     "text": [
      "bepaalde leeftijd\n"
     ]
    }
   ],
   "source": [
    "if leeftijd >= 18 or leeftijd <= 10:\n",
    "    print('bepaalde leeftijd')"
   ]
  },
  {
   "cell_type": "code",
   "execution_count": 115,
   "id": "9b646a5c",
   "metadata": {},
   "outputs": [],
   "source": [
    "leeftijd = 15\n",
    "if leeftijd >= 18 or leeftijd <= 10:\n",
    "    print('bepaalde leeftijd')"
   ]
  },
  {
   "cell_type": "markdown",
   "id": "10068343",
   "metadata": {},
   "source": [
    "# Loops for/while"
   ]
  },
  {
   "cell_type": "code",
   "execution_count": 123,
   "id": "65e3dcfe",
   "metadata": {},
   "outputs": [
    {
     "name": "stdout",
     "output_type": "stream",
     "text": [
      "0\n",
      "1\n",
      "2\n",
      "3\n",
      "4\n"
     ]
    }
   ],
   "source": [
    "for i in range(5):\n",
    "    print(i)"
   ]
  },
  {
   "cell_type": "code",
   "execution_count": 122,
   "id": "b45104d5",
   "metadata": {},
   "outputs": [
    {
     "data": {
      "text/plain": [
       "15"
      ]
     },
     "execution_count": 122,
     "metadata": {},
     "output_type": "execute_result"
    }
   ],
   "source": [
    "a = 3\n",
    "b = 5\n",
    "\n",
    "y = 0\n",
    "for _ in range(b):\n",
    "    y += a\n",
    "y"
   ]
  },
  {
   "cell_type": "code",
   "execution_count": 124,
   "id": "3bb17d44",
   "metadata": {},
   "outputs": [
    {
     "data": {
      "text/plain": [
       "6"
      ]
     },
     "execution_count": 124,
     "metadata": {},
     "output_type": "execute_result"
    }
   ],
   "source": [
    "x = 3\n",
    "x += 3\n",
    "x"
   ]
  },
  {
   "cell_type": "code",
   "execution_count": 125,
   "id": "4e12b6e9",
   "metadata": {},
   "outputs": [
    {
     "data": {
      "text/plain": [
       "6"
      ]
     },
     "execution_count": 125,
     "metadata": {},
     "output_type": "execute_result"
    }
   ],
   "source": [
    "x = 3\n",
    "x = x + 3\n",
    "x"
   ]
  },
  {
   "cell_type": "code",
   "execution_count": 127,
   "id": "6f6442db",
   "metadata": {},
   "outputs": [
    {
     "data": {
      "text/plain": [
       "15"
      ]
     },
     "execution_count": 127,
     "metadata": {},
     "output_type": "execute_result"
    }
   ],
   "source": [
    "x = 3\n",
    "x *= 5\n",
    "x"
   ]
  },
  {
   "cell_type": "code",
   "execution_count": 128,
   "id": "d20bc32c",
   "metadata": {},
   "outputs": [
    {
     "data": {
      "text/plain": [
       "1"
      ]
     },
     "execution_count": 128,
     "metadata": {},
     "output_type": "execute_result"
    }
   ],
   "source": [
    "x = 10\n",
    "x %= 3\n",
    "x"
   ]
  },
  {
   "cell_type": "code",
   "execution_count": 129,
   "id": "f84b3746",
   "metadata": {},
   "outputs": [
    {
     "data": {
      "text/plain": [
       "[1, 6, 8, 9, 'c', 'b']"
      ]
     },
     "execution_count": 129,
     "metadata": {},
     "output_type": "execute_result"
    }
   ],
   "source": [
    "lijst"
   ]
  },
  {
   "cell_type": "code",
   "execution_count": 130,
   "id": "7c2db947",
   "metadata": {},
   "outputs": [
    {
     "name": "stdout",
     "output_type": "stream",
     "text": [
      "1\n",
      "6\n",
      "8\n",
      "9\n",
      "c\n",
      "b\n"
     ]
    }
   ],
   "source": [
    "for item in lijst:\n",
    "    print(item)"
   ]
  },
  {
   "cell_type": "code",
   "execution_count": 131,
   "id": "8685d77f",
   "metadata": {},
   "outputs": [
    {
     "name": "stdout",
     "output_type": "stream",
     "text": [
      "3\n",
      "18\n",
      "24\n",
      "27\n",
      "ccc\n",
      "bbb\n"
     ]
    }
   ],
   "source": [
    "for item in lijst:\n",
    "    print(3 * item)"
   ]
  },
  {
   "cell_type": "code",
   "execution_count": 132,
   "id": "5adf0022",
   "metadata": {},
   "outputs": [
    {
     "data": {
      "text/plain": [
       "(1, 6, 8, 9, 'a', 'b')"
      ]
     },
     "execution_count": 132,
     "metadata": {},
     "output_type": "execute_result"
    }
   ],
   "source": [
    "t"
   ]
  },
  {
   "cell_type": "code",
   "execution_count": 133,
   "id": "8e0ce9e2",
   "metadata": {},
   "outputs": [
    {
     "name": "stdout",
     "output_type": "stream",
     "text": [
      "1\n",
      "6\n",
      "8\n",
      "9\n",
      "a\n",
      "b\n"
     ]
    }
   ],
   "source": [
    "for item in t:\n",
    "    print(item)"
   ]
  },
  {
   "cell_type": "code",
   "execution_count": 134,
   "id": "f031b8eb",
   "metadata": {},
   "outputs": [
    {
     "data": {
      "text/plain": [
       "[{'naam': 'Henk', 'leeftijd': 18}, {'naam': 'Freek', 'leeftijd': 30}]"
      ]
     },
     "execution_count": 134,
     "metadata": {},
     "output_type": "execute_result"
    }
   ],
   "source": [
    "personen"
   ]
  },
  {
   "cell_type": "code",
   "execution_count": 135,
   "id": "9ae4d7b6",
   "metadata": {},
   "outputs": [
    {
     "data": {
      "text/plain": [
       "{'naam': 'Henk', 'leeftijd': 18}"
      ]
     },
     "execution_count": 135,
     "metadata": {},
     "output_type": "execute_result"
    }
   ],
   "source": [
    "personen[0]"
   ]
  },
  {
   "cell_type": "code",
   "execution_count": 136,
   "id": "f96a6d6f",
   "metadata": {},
   "outputs": [
    {
     "name": "stdout",
     "output_type": "stream",
     "text": [
      "naam\n",
      "leeftijd\n"
     ]
    }
   ],
   "source": [
    "for sleutel in personen[0]:\n",
    "    print(sleutel)"
   ]
  },
  {
   "cell_type": "code",
   "execution_count": 137,
   "id": "8640d39b",
   "metadata": {},
   "outputs": [
    {
     "name": "stdout",
     "output_type": "stream",
     "text": [
      "Henk\n",
      "18\n"
     ]
    }
   ],
   "source": [
    "for waarde in personen[0].values():\n",
    "    print(waarde)"
   ]
  },
  {
   "cell_type": "code",
   "execution_count": 140,
   "id": "aced272b",
   "metadata": {},
   "outputs": [
    {
     "data": {
      "text/plain": [
       "(19, 200)"
      ]
     },
     "execution_count": 140,
     "metadata": {},
     "output_type": "execute_result"
    }
   ],
   "source": [
    "a, b = 19, 200\n",
    "a, b"
   ]
  },
  {
   "cell_type": "code",
   "execution_count": 141,
   "id": "0881e917",
   "metadata": {},
   "outputs": [
    {
     "data": {
      "text/plain": [
       "(19, 200)"
      ]
     },
     "execution_count": 141,
     "metadata": {},
     "output_type": "execute_result"
    }
   ],
   "source": [
    "a, b = (19, 200)\n",
    "a, b"
   ]
  },
  {
   "cell_type": "code",
   "execution_count": 142,
   "id": "2a277a29",
   "metadata": {},
   "outputs": [
    {
     "name": "stdout",
     "output_type": "stream",
     "text": [
      "3 8 6\n"
     ]
    }
   ],
   "source": [
    "print(3, 8, 6)"
   ]
  },
  {
   "cell_type": "code",
   "execution_count": 143,
   "id": "cbfcdbad",
   "metadata": {},
   "outputs": [
    {
     "name": "stdout",
     "output_type": "stream",
     "text": [
      "3^8^6\n"
     ]
    }
   ],
   "source": [
    "print(3, 8, 6, sep='^')"
   ]
  },
  {
   "cell_type": "code",
   "execution_count": 138,
   "id": "caa087da",
   "metadata": {},
   "outputs": [
    {
     "name": "stdout",
     "output_type": "stream",
     "text": [
      "naam Henk\n",
      "leeftijd 18\n"
     ]
    }
   ],
   "source": [
    "for sleutel, waarde in personen[0].items():\n",
    "    print(sleutel, waarde)"
   ]
  },
  {
   "cell_type": "code",
   "execution_count": 144,
   "id": "fad339bb",
   "metadata": {},
   "outputs": [
    {
     "data": {
      "text/plain": [
       "[{'naam': 'Henk', 'leeftijd': 18}, {'naam': 'Freek', 'leeftijd': 30}]"
      ]
     },
     "execution_count": 144,
     "metadata": {},
     "output_type": "execute_result"
    }
   ],
   "source": [
    "personen"
   ]
  },
  {
   "cell_type": "code",
   "execution_count": 145,
   "id": "a7880d77",
   "metadata": {},
   "outputs": [
    {
     "name": "stdout",
     "output_type": "stream",
     "text": [
      "De sleutel naam heeft de waarde Henk\n",
      "De sleutel leeftijd heeft de waarde 18\n",
      "De sleutel naam heeft de waarde Freek\n",
      "De sleutel leeftijd heeft de waarde 30\n"
     ]
    }
   ],
   "source": [
    "for persoon in personen:\n",
    "    for sleutel, waarde in persoon.items():\n",
    "        print(f\"De sleutel {sleutel} heeft de waarde {waarde}\")"
   ]
  },
  {
   "cell_type": "code",
   "execution_count": 147,
   "id": "ecdbd4ef",
   "metadata": {},
   "outputs": [
    {
     "data": {
      "text/plain": [
       "'30 hier iets er tussen 7.6 True'"
      ]
     },
     "execution_count": 147,
     "metadata": {},
     "output_type": "execute_result"
    }
   ],
   "source": [
    "f\"{30} hier iets er tussen {7.6} {True}\""
   ]
  },
  {
   "cell_type": "code",
   "execution_count": 150,
   "id": "39dc9730",
   "metadata": {},
   "outputs": [
    {
     "name": "stdout",
     "output_type": "stream",
     "text": [
      "Voer een getal in tussen de -10 en 10: 8\n"
     ]
    }
   ],
   "source": [
    "# getal = int(input('Voer een getal in tussen de -10 en 10: '))\n",
    "# if getal < -10 or getal > 10:\n",
    "#     print('Hey dat ligt buiten de gewenste range')"
   ]
  },
  {
   "cell_type": "code",
   "execution_count": 151,
   "id": "f6f4c6c4",
   "metadata": {},
   "outputs": [
    {
     "data": {
      "text/plain": [
       "False"
      ]
     },
     "execution_count": 151,
     "metadata": {},
     "output_type": "execute_result"
    }
   ],
   "source": [
    "bool(None)"
   ]
  },
  {
   "cell_type": "code",
   "execution_count": 155,
   "id": "1e6aac3a",
   "metadata": {},
   "outputs": [
    {
     "data": {
      "text/plain": [
       "True"
      ]
     },
     "execution_count": 155,
     "metadata": {},
     "output_type": "execute_result"
    }
   ],
   "source": [
    "3 == 3"
   ]
  },
  {
   "cell_type": "code",
   "execution_count": 157,
   "id": "90d981b4",
   "metadata": {},
   "outputs": [
    {
     "data": {
      "text/plain": [
       "False"
      ]
     },
     "execution_count": 157,
     "metadata": {},
     "output_type": "execute_result"
    }
   ],
   "source": [
    "a = ['test']\n",
    "\n",
    "a is ['test']"
   ]
  },
  {
   "cell_type": "code",
   "execution_count": 158,
   "id": "8c914ed9",
   "metadata": {},
   "outputs": [
    {
     "data": {
      "text/plain": [
       "True"
      ]
     },
     "execution_count": 158,
     "metadata": {},
     "output_type": "execute_result"
    }
   ],
   "source": [
    "a == ['test']"
   ]
  },
  {
   "cell_type": "code",
   "execution_count": 159,
   "id": "d21dbc7c",
   "metadata": {},
   "outputs": [
    {
     "data": {
      "text/plain": [
       "2341094355456"
      ]
     },
     "execution_count": 159,
     "metadata": {},
     "output_type": "execute_result"
    }
   ],
   "source": [
    "id(a)"
   ]
  },
  {
   "cell_type": "code",
   "execution_count": 162,
   "id": "99061c88",
   "metadata": {},
   "outputs": [
    {
     "data": {
      "text/plain": [
       "2341094391616"
      ]
     },
     "execution_count": 162,
     "metadata": {},
     "output_type": "execute_result"
    }
   ],
   "source": [
    "id(['test'])"
   ]
  },
  {
   "cell_type": "code",
   "execution_count": 172,
   "id": "d2b875a4",
   "metadata": {},
   "outputs": [
    {
     "data": {
      "text/plain": [
       "140716467034104"
      ]
     },
     "execution_count": 172,
     "metadata": {},
     "output_type": "execute_result"
    }
   ],
   "source": [
    "id(None)"
   ]
  },
  {
   "cell_type": "code",
   "execution_count": 154,
   "id": "4a036aa1",
   "metadata": {},
   "outputs": [
    {
     "name": "stdout",
     "output_type": "stream",
     "text": [
      "Voer een getal in tussen de -10 en 10: 20\n",
      "Hey dat ligt buiten de gewenste range, probeer opnieuw!\n",
      "Voer een getal in tussen de -10 en 10: 30\n",
      "Hey dat ligt buiten de gewenste range, probeer opnieuw!\n",
      "Voer een getal in tussen de -10 en 10: 10\n",
      "Het gekozen getal is 10\n"
     ]
    }
   ],
   "source": [
    "# getal = None\n",
    "\n",
    "# while getal is None:\n",
    "#     getal = int(input('Voer een getal in tussen de -10 en 10: '))\n",
    "#     if getal < -10 or getal > 10:\n",
    "#         print('Hey dat ligt buiten de gewenste range, probeer opnieuw!')\n",
    "#         getal = None\n",
    "# print(f'Het gekozen getal is {getal}')"
   ]
  },
  {
   "cell_type": "markdown",
   "id": "b787fe56",
   "metadata": {},
   "source": [
    "## Opdracht 1:\n",
    "1. Schrijf een loop die alle elementen uit `opdracht_lijst` print.\n",
    "2. Schrijf een loop die een nieuwe lijst vult met de getallen -10 t/m 23.\n",
    "3. Schrijf een loop die een nieuwe lijst vult met de getallen 0 t/m 30 die een veelvoud zijn van 3.\n",
    "    - Hint: Zoek op wat de documentatie zegt over `range()`\n",
    "4. Schrijf een loop die een dictionary maakt met alle letters uit het alfabet als de sleutels, en hun 'waarde' als waarde. De waarde in dit geval is 1 voor a, 2 voor b, etc.\n",
    "    - Hint: Gebruikt de module `string` (deze is al standaard geïnstalleerd). Gebruikt hiervoor het keyword `import`"
   ]
  },
  {
   "cell_type": "code",
   "execution_count": 173,
   "id": "859c56b3",
   "metadata": {},
   "outputs": [],
   "source": [
    "opdracht_lijst = [9, 2, 6, 'a', 'z', ['hoi']]"
   ]
  },
  {
   "cell_type": "code",
   "execution_count": null,
   "id": "5cbd0edf",
   "metadata": {},
   "outputs": [],
   "source": []
  }
 ],
 "metadata": {
  "kernelspec": {
   "display_name": "Python 3 (ipykernel)",
   "language": "python",
   "name": "python3"
  },
  "language_info": {
   "codemirror_mode": {
    "name": "ipython",
    "version": 3
   },
   "file_extension": ".py",
   "mimetype": "text/x-python",
   "name": "python",
   "nbconvert_exporter": "python",
   "pygments_lexer": "ipython3",
   "version": "3.10.9"
  }
 },
 "nbformat": 4,
 "nbformat_minor": 5
}
